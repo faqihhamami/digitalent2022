{
 "cells": [
  {
   "cell_type": "markdown",
   "metadata": {
    "id": "JW_GiLIasceR"
   },
   "source": [
    "Hello Employee"
   ]
  },
  {
   "cell_type": "code",
   "execution_count": null,
   "metadata": {
    "colab": {
     "base_uri": "https://localhost:8080/"
    },
    "executionInfo": {
     "elapsed": 288,
     "status": "ok",
     "timestamp": 1627972240562,
     "user": {
      "displayName": "FAQIH HAMAMI",
      "photoUrl": "",
      "userId": "12373015352648283402"
     },
     "user_tz": -420
    },
    "id": "JIYDA1UvsLKZ",
    "outputId": "7a83510a-d100-4a7a-8c20-23fe507372a5"
   },
   "outputs": [
    {
     "name": "stdout",
     "output_type": "stream",
     "text": [
      "Hello employee\n"
     ]
    }
   ],
   "source": [
    "# no parameter\n",
    "class Employee:\n",
    "  def __init__(self):\n",
    "    print(\"Hello employee\")\n",
    "\n",
    "emp1 = Employee()"
   ]
  },
  {
   "cell_type": "code",
   "execution_count": null,
   "metadata": {
    "colab": {
     "base_uri": "https://localhost:8080/"
    },
    "executionInfo": {
     "elapsed": 286,
     "status": "ok",
     "timestamp": 1627972326015,
     "user": {
      "displayName": "FAQIH HAMAMI",
      "photoUrl": "",
      "userId": "12373015352648283402"
     },
     "user_tz": -420
    },
    "id": "GT9Wvy5TsYOA",
    "outputId": "141b7bba-69e6-4088-c546-1d48449eebfc"
   },
   "outputs": [
    {
     "name": "stdout",
     "output_type": "stream",
     "text": [
      "hallo faqih\n"
     ]
    }
   ],
   "source": [
    "# single parameter\n",
    "class Employee:\n",
    "  def __init__(self, name):\n",
    "    self.name = name\n",
    "\n",
    "  def displayEmployee(self):\n",
    "    print(\"hallo {}\".format(self.name))\n",
    "\n",
    "emp1 = Employee(\"faqih\")\n",
    "emp1.displayEmployee()"
   ]
  },
  {
   "cell_type": "code",
   "execution_count": null,
   "metadata": {
    "colab": {
     "base_uri": "https://localhost:8080/"
    },
    "executionInfo": {
     "elapsed": 285,
     "status": "ok",
     "timestamp": 1627972335234,
     "user": {
      "displayName": "FAQIH HAMAMI",
      "photoUrl": "",
      "userId": "12373015352648283402"
     },
     "user_tz": -420
    },
    "id": "qpQbdonytK62",
    "outputId": "3a126da6-8b84-4bb5-8860-9077ba71e57c"
   },
   "outputs": [
    {
     "name": "stdout",
     "output_type": "stream",
     "text": [
      "hallo joko\n"
     ]
    }
   ],
   "source": [
    "emp1 = Employee(\"joko\")\n",
    "emp1.displayEmployee()"
   ]
  },
  {
   "cell_type": "code",
   "execution_count": null,
   "metadata": {
    "colab": {
     "base_uri": "https://localhost:8080/"
    },
    "executionInfo": {
     "elapsed": 313,
     "status": "ok",
     "timestamp": 1627972530677,
     "user": {
      "displayName": "FAQIH HAMAMI",
      "photoUrl": "",
      "userId": "12373015352648283402"
     },
     "user_tz": -420
    },
    "id": "exrGRnivtnN-",
    "outputId": "18e443ae-feb8-4d23-eb2a-a5ba8056252e"
   },
   "outputs": [
    {
     "name": "stdout",
     "output_type": "stream",
     "text": [
      "hallo faqih with salary 2000000\n"
     ]
    }
   ],
   "source": [
    "# multiple parameter\n",
    "class Employee:\n",
    "  def __init__(self, name, salary):\n",
    "    self.name = name\n",
    "    self.salary = salary\n",
    "\n",
    "  def displayEmployee(self):\n",
    "    print(\"hallo {} with salary {}\".format(self.name, self.salary))\n",
    "\n",
    "emp1 = Employee(\"faqih\", 2000000)\n",
    "emp1.displayEmployee()"
   ]
  },
  {
   "cell_type": "code",
   "execution_count": null,
   "metadata": {
    "id": "cNNhjJ5yuW7N"
   },
   "outputs": [],
   "source": [
    "# with behaviour\n",
    "class Employee:\n",
    "  def __init__(self, name, salary):\n",
    "    self.name = name\n",
    "    self.salary = salary\n",
    "\n",
    "  def work(self, status):\n",
    "    print(\"bekerja {}\".format(status))\n",
    "\n",
    "  def displayEmployee(self):\n",
    "    print(\"hallo {} with salary {}\".format(self.name, self.salary))\n"
   ]
  },
  {
   "cell_type": "code",
   "execution_count": null,
   "metadata": {
    "colab": {
     "base_uri": "https://localhost:8080/"
    },
    "executionInfo": {
     "elapsed": 478,
     "status": "ok",
     "timestamp": 1627973441161,
     "user": {
      "displayName": "FAQIH HAMAMI",
      "photoUrl": "",
      "userId": "12373015352648283402"
     },
     "user_tz": -420
    },
    "id": "No8dro4wu2or",
    "outputId": "5d3d6780-28bb-47fc-eb1b-3c438b43961a"
   },
   "outputs": [
    {
     "name": "stdout",
     "output_type": "stream",
     "text": [
      "hallo faqih with salary 2000000\n",
      "bekerja partime\n"
     ]
    }
   ],
   "source": [
    "emp1 = Employee(\"faqih\", 2000000)\n",
    "emp1.displayEmployee()\n",
    "\n",
    "emp1.work(\"partime\")"
   ]
  },
  {
   "cell_type": "code",
   "execution_count": null,
   "metadata": {
    "colab": {
     "base_uri": "https://localhost:8080/"
    },
    "executionInfo": {
     "elapsed": 294,
     "status": "ok",
     "timestamp": 1627973627963,
     "user": {
      "displayName": "FAQIH HAMAMI",
      "photoUrl": "",
      "userId": "12373015352648283402"
     },
     "user_tz": -420
    },
    "id": "wvqHYysju50S",
    "outputId": "a367794a-e52c-41b3-d8bd-7134fec31e7a"
   },
   "outputs": [
    {
     "name": "stdout",
     "output_type": "stream",
     "text": [
      "bekerja fulltime\n"
     ]
    }
   ],
   "source": [
    "emp2 = Employee(\"joko\", 100000)\n",
    "emp2.work(\"fulltime\")"
   ]
  },
  {
   "cell_type": "code",
   "execution_count": null,
   "metadata": {
    "colab": {
     "base_uri": "https://localhost:8080/",
     "height": 253
    },
    "executionInfo": {
     "elapsed": 297,
     "status": "error",
     "timestamp": 1627974085959,
     "user": {
      "displayName": "FAQIH HAMAMI",
      "photoUrl": "",
      "userId": "12373015352648283402"
     },
     "user_tz": -420
    },
    "id": "4xUnLOb8yi0h",
    "outputId": "ec286521-1c9c-4400-8faa-a7a9083825c0"
   },
   "outputs": [
    {
     "name": "stdout",
     "output_type": "stream",
     "text": [
      "Dev\n",
      "30\n",
      "Dev\n"
     ]
    },
    {
     "ename": "AttributeError",
     "evalue": "ignored",
     "output_type": "error",
     "traceback": [
      "\u001b[0;31m---------------------------------------------------------------------------\u001b[0m",
      "\u001b[0;31mAttributeError\u001b[0m                            Traceback (most recent call last)",
      "\u001b[0;32m<ipython-input-25-1450ab686751>\u001b[0m in \u001b[0;36m<module>\u001b[0;34m()\u001b[0m\n\u001b[1;32m     13\u001b[0m \u001b[0;31m#accessing directly from outside\u001b[0m\u001b[0;34m\u001b[0m\u001b[0;34m\u001b[0m\u001b[0;34m\u001b[0m\u001b[0m\n\u001b[1;32m     14\u001b[0m \u001b[0mprint\u001b[0m\u001b[0;34m(\u001b[0m\u001b[0mperson\u001b[0m\u001b[0;34m.\u001b[0m\u001b[0mname\u001b[0m\u001b[0;34m)\u001b[0m\u001b[0;34m\u001b[0m\u001b[0;34m\u001b[0m\u001b[0m\n\u001b[0;32m---> 15\u001b[0;31m \u001b[0mprint\u001b[0m\u001b[0;34m(\u001b[0m\u001b[0mperson\u001b[0m\u001b[0;34m.\u001b[0m\u001b[0m__age\u001b[0m\u001b[0;34m)\u001b[0m\u001b[0;34m\u001b[0m\u001b[0;34m\u001b[0m\u001b[0m\n\u001b[0m",
      "\u001b[0;31mAttributeError\u001b[0m: 'Person' object has no attribute '__age'"
     ]
    }
   ],
   "source": [
    "# encapsulation\n",
    "class Person:\n",
    "    def __init__(self, name, age=0):\n",
    "        self.name = name\n",
    "        self.__age = age\n",
    " \n",
    "    def display(self):\n",
    "        print(self.name)\n",
    "        print(self.__age)\n",
    " \n",
    "person = Person('Dev', 30)\n",
    "#accessing using class method\n",
    "person.display()\n",
    "#accessing directly from outside\n",
    "print(person.name)\n",
    "# print(person.__age)"
   ]
  },
  {
   "cell_type": "code",
   "execution_count": null,
   "metadata": {
    "colab": {
     "base_uri": "https://localhost:8080/"
    },
    "executionInfo": {
     "elapsed": 337,
     "status": "ok",
     "timestamp": 1627975754334,
     "user": {
      "displayName": "FAQIH HAMAMI",
      "photoUrl": "",
      "userId": "12373015352648283402"
     },
     "user_tz": -420
    },
    "id": "dAIam9ZYzBai",
    "outputId": "d7356f21-75db-49f5-8021-18400497f5b0"
   },
   "outputs": [
    {
     "name": "stdout",
     "output_type": "stream",
     "text": [
      "Dev\n",
      "0\n",
      "35\n"
     ]
    }
   ],
   "source": [
    "# encapsulation getter setter\n",
    "class Person:\n",
    "    def __init__(self, name, age=0):\n",
    "        self.name = name\n",
    "        self.__age = age\n",
    " \n",
    "    def display(self):\n",
    "        print(self.name)\n",
    "        print(self.__age)\n",
    "    \n",
    "    def getAge(self):\n",
    "      print(self.__age)\n",
    "\n",
    "    def setAge(self,age):\n",
    "      self.__age = age\n",
    "    \n",
    " \n",
    "person = Person('Dev')\n",
    "#accessing using class method\n",
    "person.display()\n",
    "#accessing directly from outside\n",
    "person.setAge(35)\n",
    "person.getAge()"
   ]
  },
  {
   "cell_type": "markdown",
   "metadata": {
    "id": "-UUR2DPs-mma"
   },
   "source": [
    "# Inheritance"
   ]
  },
  {
   "cell_type": "code",
   "execution_count": null,
   "metadata": {
    "id": "Irb8Fdix6E_C"
   },
   "outputs": [],
   "source": [
    "# https://www.programiz.com/python-programming/object-oriented-programming"
   ]
  },
  {
   "cell_type": "code",
   "execution_count": null,
   "metadata": {
    "id": "6j82BFh5-oMX"
   },
   "outputs": [],
   "source": [
    "# Inheritance is a way of creating a new class for using details of an existing class"
   ]
  },
  {
   "cell_type": "code",
   "execution_count": null,
   "metadata": {
    "colab": {
     "base_uri": "https://localhost:8080/"
    },
    "executionInfo": {
     "elapsed": 317,
     "status": "ok",
     "timestamp": 1627976883371,
     "user": {
      "displayName": "FAQIH HAMAMI",
      "photoUrl": "",
      "userId": "12373015352648283402"
     },
     "user_tz": -420
    },
    "id": "cFdxoNie-wtp",
    "outputId": "f3af7d1c-c23c-4e62-f5bb-7f315378320e"
   },
   "outputs": [
    {
     "name": "stdout",
     "output_type": "stream",
     "text": [
      "Bird is ready\n",
      "Bird\n",
      "Swim faster\n"
     ]
    }
   ],
   "source": [
    "# parent class\n",
    "class Bird:\n",
    "    \n",
    "    def __init__(self):\n",
    "        print(\"Bird is ready\")\n",
    "\n",
    "    def whoisThis(self):\n",
    "        print(\"Bird\")\n",
    "\n",
    "    def swim(self):\n",
    "        print(\"Swim faster\")\n",
    "\n",
    "manuk = Bird()\n",
    "manuk.whoisThis()\n",
    "manuk.swim()"
   ]
  },
  {
   "cell_type": "code",
   "execution_count": null,
   "metadata": {
    "colab": {
     "base_uri": "https://localhost:8080/"
    },
    "executionInfo": {
     "elapsed": 311,
     "status": "ok",
     "timestamp": 1627976980716,
     "user": {
      "displayName": "FAQIH HAMAMI",
      "photoUrl": "",
      "userId": "12373015352648283402"
     },
     "user_tz": -420
    },
    "id": "b5tPAdvl-1jG",
    "outputId": "29e71cf9-ca99-4a64-dddf-fc36f0cbbc32"
   },
   "outputs": [
    {
     "name": "stdout",
     "output_type": "stream",
     "text": [
      "Bird is ready\n",
      "Penguin is ready\n",
      "Penguin\n",
      "Swim faster\n",
      "Run faster\n"
     ]
    }
   ],
   "source": [
    "# parent class\n",
    "class Bird:\n",
    "    \n",
    "    def __init__(self):\n",
    "        print(\"Bird is ready\")\n",
    "\n",
    "    def whoisThis(self):\n",
    "        print(\"Bird\")\n",
    "\n",
    "    def swim(self):\n",
    "        print(\"Swim faster\")\n",
    "\n",
    "class Penguin(Bird):\n",
    "\n",
    "    def __init__(self):\n",
    "        # call super() function\n",
    "        super().__init__()\n",
    "        print(\"Penguin is ready\")\n",
    "\n",
    "    def whoisThis(self):\n",
    "        print(\"Penguin\")\n",
    "\n",
    "    def run(self):\n",
    "        print(\"Run faster\")\n",
    "\n",
    "peggy = Penguin()\n",
    "peggy.whoisThis()\n",
    "peggy.swim()\n",
    "peggy.run()"
   ]
  },
  {
   "cell_type": "code",
   "execution_count": null,
   "metadata": {
    "colab": {
     "base_uri": "https://localhost:8080/"
    },
    "executionInfo": {
     "elapsed": 302,
     "status": "ok",
     "timestamp": 1627976935047,
     "user": {
      "displayName": "FAQIH HAMAMI",
      "photoUrl": "",
      "userId": "12373015352648283402"
     },
     "user_tz": -420
    },
    "id": "JpFAX2oa-334",
    "outputId": "b72e212e-1ade-40a6-c4c3-e272cc1eb14b"
   },
   "outputs": [
    {
     "name": "stdout",
     "output_type": "stream",
     "text": [
      "Bird is ready\n",
      "Penguin is ready\n"
     ]
    }
   ],
   "source": [
    "mimi = Penguin()\n",
    "mimi.whoisThis()"
   ]
  },
  {
   "cell_type": "markdown",
   "metadata": {
    "id": "2ifJCGjbAZf5"
   },
   "source": [
    "# Polymorphism"
   ]
  },
  {
   "cell_type": "code",
   "execution_count": null,
   "metadata": {
    "id": "GEM7FB95-5uh"
   },
   "outputs": [],
   "source": [
    "# Polymorphism is an ability (in OOP) to use a common interface for multiple forms (data types)."
   ]
  },
  {
   "cell_type": "code",
   "execution_count": null,
   "metadata": {
    "colab": {
     "base_uri": "https://localhost:8080/"
    },
    "executionInfo": {
     "elapsed": 413,
     "status": "ok",
     "timestamp": 1627977483689,
     "user": {
      "displayName": "FAQIH HAMAMI",
      "photoUrl": "",
      "userId": "12373015352648283402"
     },
     "user_tz": -420
    },
    "id": "NPxzcMWx_OP3",
    "outputId": "7d4794f5-dea0-4b0f-d514-9f582412ae7f"
   },
   "outputs": [
    {
     "name": "stdout",
     "output_type": "stream",
     "text": [
      "Bird is ready\n",
      "Penguin is ready\n",
      "Penguin\n",
      "Swim faster\n",
      "Run faster\n"
     ]
    }
   ],
   "source": [
    "# parent class\n",
    "class Bird:\n",
    "    \n",
    "    def __init__(self):\n",
    "        print(\"Bird is ready\")\n",
    "\n",
    "    def whoisThis(self):\n",
    "        print(\"Bird\")\n",
    "\n",
    "    def swim(self):\n",
    "        print(\"Swim faster\")\n",
    "\n",
    "class Penguin(Bird):\n",
    "\n",
    "    def __init__(self):\n",
    "        # call super() function\n",
    "        super().__init__()\n",
    "        print(\"Penguin is ready\")\n",
    "\n",
    "    def whoisThis(self):\n",
    "        print(\"Penguin\")\n",
    "\n",
    "    def run(self):\n",
    "        print(\"Run faster\")\n",
    "\n",
    "\n",
    "class Duck(Bird):\n",
    "\n",
    "    def __init__(self):\n",
    "        # call super() function\n",
    "        super().__init__()\n",
    "        print(\"Duck is ready\")\n",
    "\n",
    "    def whoisThis(self):\n",
    "        print(\"Duck\")\n",
    "\n",
    "    def run(self):\n",
    "        print(\"Run slow\")\n",
    "\n",
    "peggy = Penguin()\n",
    "peggy.whoisThis()\n",
    "peggy.swim()\n",
    "peggy.run()"
   ]
  },
  {
   "cell_type": "code",
   "execution_count": null,
   "metadata": {
    "colab": {
     "base_uri": "https://localhost:8080/"
    },
    "executionInfo": {
     "elapsed": 323,
     "status": "ok",
     "timestamp": 1627977525634,
     "user": {
      "displayName": "FAQIH HAMAMI",
      "photoUrl": "",
      "userId": "12373015352648283402"
     },
     "user_tz": -420
    },
    "id": "4qRQzSv4BQId",
    "outputId": "ff4eb49b-f1e7-4b6f-b7da-68c313d64fa9"
   },
   "outputs": [
    {
     "name": "stdout",
     "output_type": "stream",
     "text": [
      "Bird is ready\n",
      "Duck is ready\n"
     ]
    }
   ],
   "source": [
    "duck = Duck()"
   ]
  },
  {
   "cell_type": "code",
   "execution_count": null,
   "metadata": {
    "colab": {
     "base_uri": "https://localhost:8080/"
    },
    "executionInfo": {
     "elapsed": 3,
     "status": "ok",
     "timestamp": 1627977526746,
     "user": {
      "displayName": "FAQIH HAMAMI",
      "photoUrl": "",
      "userId": "12373015352648283402"
     },
     "user_tz": -420
    },
    "id": "WQSIdGH7BSmz",
    "outputId": "12a191a7-7ef0-4ec1-f4fd-0d6e03bae50d"
   },
   "outputs": [
    {
     "name": "stdout",
     "output_type": "stream",
     "text": [
      "Run slow\n"
     ]
    }
   ],
   "source": [
    "duck.run()"
   ]
  },
  {
   "cell_type": "markdown",
   "metadata": {
    "id": "fFSPMCX4EBi0"
   },
   "source": [
    "# Other OOP"
   ]
  },
  {
   "cell_type": "code",
   "execution_count": null,
   "metadata": {
    "id": "sBusQpiwBU1W"
   },
   "outputs": [],
   "source": [
    "# https://analyticsindiamag.com/object-oriented-programming-python/"
   ]
  },
  {
   "cell_type": "code",
   "execution_count": null,
   "metadata": {
    "id": "SV7ea6-FEDjH"
   },
   "outputs": [],
   "source": []
  },
  {
   "cell_type": "markdown",
   "metadata": {
    "id": "6KGFG7ATWBMo"
   },
   "source": [
    "# Class as Atribut"
   ]
  },
  {
   "cell_type": "code",
   "execution_count": null,
   "metadata": {
    "id": "sedrg7CVWDA1"
   },
   "outputs": [],
   "source": [
    "# author = name, address\n",
    "# book = athor, typebook"
   ]
  },
  {
   "cell_type": "code",
   "execution_count": null,
   "metadata": {
    "id": "EoaDyip4WLxb"
   },
   "outputs": [],
   "source": [
    "class Penulis:\n",
    "  def __init__(self, nama, alamat):\n",
    "    self.nama = nama\n",
    "    self.alamat = alamat\n",
    "\n",
    "  def cetak(self):\n",
    "    print(\"penulis {} alamat {}\".format(self.nama, self.alamat))\n",
    "\n",
    "class Buku:\n",
    "  def __init__(self, penulis, judul, tipe):\n",
    "    self.penulis = penulis\n",
    "    self.judul = judul\n",
    "    self.tipe = tipe"
   ]
  },
  {
   "cell_type": "code",
   "execution_count": null,
   "metadata": {
    "id": "enKzk9AFWvPW"
   },
   "outputs": [],
   "source": [
    "penulis1 = Penulis(\"faqih\", \"bandung\")"
   ]
  },
  {
   "cell_type": "code",
   "execution_count": null,
   "metadata": {
    "id": "6rXQlAo-caHM"
   },
   "outputs": [],
   "source": [
    "buku1 = Buku(penulis1, \"belajar python dalam sehari\", \"pemrograman\")"
   ]
  },
  {
   "cell_type": "code",
   "execution_count": null,
   "metadata": {
    "colab": {
     "base_uri": "https://localhost:8080/"
    },
    "executionInfo": {
     "elapsed": 311,
     "status": "ok",
     "timestamp": 1628052021689,
     "user": {
      "displayName": "FAQIH HAMAMI",
      "photoUrl": "",
      "userId": "12373015352648283402"
     },
     "user_tz": -420
    },
    "id": "DnlsbqtTcliv",
    "outputId": "6603746b-b22c-43b8-9410-c27b71e04bf7"
   },
   "outputs": [
    {
     "name": "stdout",
     "output_type": "stream",
     "text": [
      "belajar python dalam sehari\n",
      "pemrograman\n",
      "faqih\n",
      "bandung\n"
     ]
    }
   ],
   "source": [
    "print(buku1.judul)\n",
    "print(buku1.tipe)\n",
    "print(buku1.penulis.nama)\n",
    "print(buku1.penulis.alamat)"
   ]
  },
  {
   "cell_type": "code",
   "execution_count": null,
   "metadata": {
    "id": "mBNOQcmEcoMO"
   },
   "outputs": [],
   "source": [
    "buku2 = Buku(penulis1, \"belajar java dalam satu malam\", \"pemrograman\")"
   ]
  },
  {
   "cell_type": "code",
   "execution_count": null,
   "metadata": {
    "colab": {
     "base_uri": "https://localhost:8080/"
    },
    "executionInfo": {
     "elapsed": 377,
     "status": "ok",
     "timestamp": 1628052060178,
     "user": {
      "displayName": "FAQIH HAMAMI",
      "photoUrl": "",
      "userId": "12373015352648283402"
     },
     "user_tz": -420
    },
    "id": "y9qdZan5drwj",
    "outputId": "8d255be0-9fe6-4a58-94c3-5f32d09db1fa"
   },
   "outputs": [
    {
     "name": "stdout",
     "output_type": "stream",
     "text": [
      "belajar java dalam satu malam\n",
      "pemrograman\n",
      "faqih\n",
      "bandung\n",
      "penulis faqih alamat bandung\n"
     ]
    }
   ],
   "source": [
    "print(buku2.judul)\n",
    "print(buku2.tipe)\n",
    "print(buku2.penulis.nama)\n",
    "print(buku2.penulis.alamat)\n",
    "buku2.penulis.cetak()"
   ]
  },
  {
   "cell_type": "code",
   "execution_count": null,
   "metadata": {
    "id": "tIuIRbsAdvJ2"
   },
   "outputs": [],
   "source": []
  },
  {
   "cell_type": "code",
   "execution_count": 1,
   "metadata": {
    "executionInfo": {
     "elapsed": 750,
     "status": "ok",
     "timestamp": 1628125831672,
     "user": {
      "displayName": "FAQIH HAMAMI",
      "photoUrl": "",
      "userId": "12373015352648283402"
     },
     "user_tz": -420
    },
    "id": "_YQr4kEx2uUJ"
   },
   "outputs": [],
   "source": [
    "class Penulis:\n",
    "  def __init__(self, nama, alamat):\n",
    "    self.nama = nama\n",
    "    self.alamat = alamat\n",
    "\n",
    "class Buku:\n",
    "  def __init__(self, penulis, judul, tipe):\n",
    "    self.penulis = penulis\n",
    "    self.judul = judul\n",
    "    self.tipe = tipe"
   ]
  },
  {
   "cell_type": "code",
   "execution_count": 4,
   "metadata": {
    "executionInfo": {
     "elapsed": 330,
     "status": "ok",
     "timestamp": 1628125859046,
     "user": {
      "displayName": "FAQIH HAMAMI",
      "photoUrl": "",
      "userId": "12373015352648283402"
     },
     "user_tz": -420
    },
    "id": "j4N1Ry-y2u5k"
   },
   "outputs": [],
   "source": [
    "penulis1 = Penulis(\"faqih\", \"bandung\")"
   ]
  },
  {
   "cell_type": "code",
   "execution_count": 6,
   "metadata": {
    "colab": {
     "base_uri": "https://localhost:8080/",
     "height": 35
    },
    "executionInfo": {
     "elapsed": 351,
     "status": "ok",
     "timestamp": 1628125879320,
     "user": {
      "displayName": "FAQIH HAMAMI",
      "photoUrl": "",
      "userId": "12373015352648283402"
     },
     "user_tz": -420
    },
    "id": "p2S8oq153OA4",
    "outputId": "e41ed9ea-65bd-4a22-a17a-edfcaeca8ac5"
   },
   "outputs": [
    {
     "data": {
      "application/vnd.google.colaboratory.intrinsic+json": {
       "type": "string"
      },
      "text/plain": [
       "'bandung'"
      ]
     },
     "execution_count": 6,
     "metadata": {
      "tags": []
     },
     "output_type": "execute_result"
    }
   ],
   "source": [
    "penulis1.alamat"
   ]
  },
  {
   "cell_type": "code",
   "execution_count": 7,
   "metadata": {
    "executionInfo": {
     "elapsed": 308,
     "status": "ok",
     "timestamp": 1628125926886,
     "user": {
      "displayName": "FAQIH HAMAMI",
      "photoUrl": "",
      "userId": "12373015352648283402"
     },
     "user_tz": -420
    },
    "id": "xOYCkons3UF0"
   },
   "outputs": [],
   "source": [
    "buku1 = Buku(penulis1, \"belajar python seminggu\", \"pemrograman\")"
   ]
  },
  {
   "cell_type": "code",
   "execution_count": 8,
   "metadata": {
    "colab": {
     "base_uri": "https://localhost:8080/",
     "height": 35
    },
    "executionInfo": {
     "elapsed": 329,
     "status": "ok",
     "timestamp": 1628125943450,
     "user": {
      "displayName": "FAQIH HAMAMI",
      "photoUrl": "",
      "userId": "12373015352648283402"
     },
     "user_tz": -420
    },
    "id": "QqPclWJ_3hKi",
    "outputId": "204e15e8-2338-47c2-ebbf-b4836d12a062"
   },
   "outputs": [
    {
     "data": {
      "application/vnd.google.colaboratory.intrinsic+json": {
       "type": "string"
      },
      "text/plain": [
       "'belajar python seminggu'"
      ]
     },
     "execution_count": 8,
     "metadata": {
      "tags": []
     },
     "output_type": "execute_result"
    }
   ],
   "source": [
    "buku1.judul"
   ]
  },
  {
   "cell_type": "code",
   "execution_count": 9,
   "metadata": {
    "colab": {
     "base_uri": "https://localhost:8080/",
     "height": 35
    },
    "executionInfo": {
     "elapsed": 410,
     "status": "ok",
     "timestamp": 1628125954476,
     "user": {
      "displayName": "FAQIH HAMAMI",
      "photoUrl": "",
      "userId": "12373015352648283402"
     },
     "user_tz": -420
    },
    "id": "GRK5IsGR3lNI",
    "outputId": "f8a1d405-4348-414d-83de-10359a718ee6"
   },
   "outputs": [
    {
     "data": {
      "application/vnd.google.colaboratory.intrinsic+json": {
       "type": "string"
      },
      "text/plain": [
       "'pemrograman'"
      ]
     },
     "execution_count": 9,
     "metadata": {
      "tags": []
     },
     "output_type": "execute_result"
    }
   ],
   "source": [
    "buku1.tipe"
   ]
  },
  {
   "cell_type": "code",
   "execution_count": 12,
   "metadata": {
    "colab": {
     "base_uri": "https://localhost:8080/",
     "height": 35
    },
    "executionInfo": {
     "elapsed": 326,
     "status": "ok",
     "timestamp": 1628125988788,
     "user": {
      "displayName": "FAQIH HAMAMI",
      "photoUrl": "",
      "userId": "12373015352648283402"
     },
     "user_tz": -420
    },
    "id": "e4wYGCBl3n1E",
    "outputId": "1916a6b8-1de4-4d74-8b23-243321412cbb"
   },
   "outputs": [
    {
     "data": {
      "application/vnd.google.colaboratory.intrinsic+json": {
       "type": "string"
      },
      "text/plain": [
       "'faqih'"
      ]
     },
     "execution_count": 12,
     "metadata": {
      "tags": []
     },
     "output_type": "execute_result"
    }
   ],
   "source": [
    "buku1.penulis.nama"
   ]
  },
  {
   "cell_type": "code",
   "execution_count": 13,
   "metadata": {
    "colab": {
     "base_uri": "https://localhost:8080/",
     "height": 35
    },
    "executionInfo": {
     "elapsed": 345,
     "status": "ok",
     "timestamp": 1628125996308,
     "user": {
      "displayName": "FAQIH HAMAMI",
      "photoUrl": "",
      "userId": "12373015352648283402"
     },
     "user_tz": -420
    },
    "id": "QmhFbPPs3qoK",
    "outputId": "d5f804a7-1b99-4f27-8279-a24d325ab444"
   },
   "outputs": [
    {
     "data": {
      "application/vnd.google.colaboratory.intrinsic+json": {
       "type": "string"
      },
      "text/plain": [
       "'bandung'"
      ]
     },
     "execution_count": 13,
     "metadata": {
      "tags": []
     },
     "output_type": "execute_result"
    }
   ],
   "source": [
    "buku1.penulis.alamat"
   ]
  },
  {
   "cell_type": "code",
   "execution_count": null,
   "metadata": {
    "id": "_Vu0Z_TJ3yGs"
   },
   "outputs": [],
   "source": []
  }
 ],
 "metadata": {
  "colab": {
   "authorship_tag": "ABX9TyM39p8E9F9OTXAarsZEPEym",
   "collapsed_sections": [],
   "name": "python OOP.ipynb",
   "provenance": []
  },
  "kernelspec": {
   "display_name": "Python 3",
   "language": "python",
   "name": "python3"
  },
  "language_info": {
   "codemirror_mode": {
    "name": "ipython",
    "version": 3
   },
   "file_extension": ".py",
   "mimetype": "text/x-python",
   "name": "python",
   "nbconvert_exporter": "python",
   "pygments_lexer": "ipython3",
   "version": "3.8.3"
  }
 },
 "nbformat": 4,
 "nbformat_minor": 1
}
